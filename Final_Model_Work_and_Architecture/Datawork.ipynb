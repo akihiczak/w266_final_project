{
 "cells": [
  {
   "cell_type": "code",
   "execution_count": 1,
   "metadata": {},
   "outputs": [
    {
     "data": {
      "text/html": [
       "<div>\n",
       "<style scoped>\n",
       "    .dataframe tbody tr th:only-of-type {\n",
       "        vertical-align: middle;\n",
       "    }\n",
       "\n",
       "    .dataframe tbody tr th {\n",
       "        vertical-align: top;\n",
       "    }\n",
       "\n",
       "    .dataframe thead th {\n",
       "        text-align: right;\n",
       "    }\n",
       "</style>\n",
       "<table border=\"1\" class=\"dataframe\">\n",
       "  <thead>\n",
       "    <tr style=\"text-align: right;\">\n",
       "      <th></th>\n",
       "      <th>en_text</th>\n",
       "      <th>th_text</th>\n",
       "    </tr>\n",
       "  </thead>\n",
       "  <tbody>\n",
       "    <tr>\n",
       "      <th>0</th>\n",
       "      <td>These are a terrible product from China.The li...</td>\n",
       "      <td>สินค้าพวกนี้เป็นสินค้าห่วยๆที่มาจากประเทศจีน ท...</td>\n",
       "    </tr>\n",
       "    <tr>\n",
       "      <th>1</th>\n",
       "      <td>They can't be used for anything other than par...</td>\n",
       "      <td>ไม่สามารถใช้ทำอะไรได้มากกว่าใช้ประดับในงานเลี้ยง</td>\n",
       "    </tr>\n",
       "    <tr>\n",
       "      <th>2</th>\n",
       "      <td>And yes, I followed directions exactly as they...</td>\n",
       "      <td>และแน่นอนว่าฉันได้ทำตามแนวทางที่เขาเขียนไว้อย่...</td>\n",
       "    </tr>\n",
       "    <tr>\n",
       "      <th>3</th>\n",
       "      <td>What kind of trash can cannot survive simple h...</td>\n",
       "      <td>กระป๋องขยะประเภทไหนกันที่ไม่สามารถใช้งานง่ายๆใ...</td>\n",
       "    </tr>\n",
       "    <tr>\n",
       "      <th>4</th>\n",
       "      <td>I'm returning them.</td>\n",
       "      <td>ฉันจะส่งสินค้าพวกนี้กลับค่ะ</td>\n",
       "    </tr>\n",
       "    <tr>\n",
       "      <th>...</th>\n",
       "      <td>...</td>\n",
       "      <td>...</td>\n",
       "    </tr>\n",
       "    <tr>\n",
       "      <th>133325</th>\n",
       "      <td>The songs are well known and the sound quality...</td>\n",
       "      <td>เพลงเป็นที่รู้จักกันดีและคุณภาพเสียงก็ยอดเยี่ยม</td>\n",
       "    </tr>\n",
       "    <tr>\n",
       "      <th>133326</th>\n",
       "      <td>I think it might be more important these days ...</td>\n",
       "      <td>ฉันคิดว่ามันอาจจะสำคัญกว่าในทุกวันนี้ที่จะกลับ...</td>\n",
       "    </tr>\n",
       "    <tr>\n",
       "      <th>133327</th>\n",
       "      <td>If that's not what you want, buy this CD.</td>\n",
       "      <td>ถ้านั่นไม่ใช่สิ่งที่คุณต้องการซื้อซีดีนี้</td>\n",
       "    </tr>\n",
       "    <tr>\n",
       "      <th>133328</th>\n",
       "      <td>It brings me back 20 years when we used to lis...</td>\n",
       "      <td>มันทำให้ฉันย้อนกลับไป 20 ปีเมื่อเราเคยฟัง John...</td>\n",
       "    </tr>\n",
       "    <tr>\n",
       "      <th>133329</th>\n",
       "      <td>My friends can't stop asking where they can bu...</td>\n",
       "      <td>ดีใจมากที่หาซื้อได้ เพื่อน ๆ ถามกันใหญ่เลยค่ะว...</td>\n",
       "    </tr>\n",
       "  </tbody>\n",
       "</table>\n",
       "<p>133330 rows × 2 columns</p>\n",
       "</div>"
      ],
      "text/plain": [
       "                                                  en_text  \\\n",
       "0       These are a terrible product from China.The li...   \n",
       "1       They can't be used for anything other than par...   \n",
       "2       And yes, I followed directions exactly as they...   \n",
       "3       What kind of trash can cannot survive simple h...   \n",
       "4                                     I'm returning them.   \n",
       "...                                                   ...   \n",
       "133325  The songs are well known and the sound quality...   \n",
       "133326  I think it might be more important these days ...   \n",
       "133327          If that's not what you want, buy this CD.   \n",
       "133328  It brings me back 20 years when we used to lis...   \n",
       "133329  My friends can't stop asking where they can bu...   \n",
       "\n",
       "                                                  th_text  \n",
       "0       สินค้าพวกนี้เป็นสินค้าห่วยๆที่มาจากประเทศจีน ท...  \n",
       "1        ไม่สามารถใช้ทำอะไรได้มากกว่าใช้ประดับในงานเลี้ยง  \n",
       "2       และแน่นอนว่าฉันได้ทำตามแนวทางที่เขาเขียนไว้อย่...  \n",
       "3       กระป๋องขยะประเภทไหนกันที่ไม่สามารถใช้งานง่ายๆใ...  \n",
       "4                             ฉันจะส่งสินค้าพวกนี้กลับค่ะ  \n",
       "...                                                   ...  \n",
       "133325    เพลงเป็นที่รู้จักกันดีและคุณภาพเสียงก็ยอดเยี่ยม  \n",
       "133326  ฉันคิดว่ามันอาจจะสำคัญกว่าในทุกวันนี้ที่จะกลับ...  \n",
       "133327          ถ้านั่นไม่ใช่สิ่งที่คุณต้องการซื้อซีดีนี้  \n",
       "133328  มันทำให้ฉันย้อนกลับไป 20 ปีเมื่อเราเคยฟัง John...  \n",
       "133329  ดีใจมากที่หาซื้อได้ เพื่อน ๆ ถามกันใหญ่เลยค่ะว...  \n",
       "\n",
       "[133330 rows x 2 columns]"
      ]
     },
     "execution_count": 1,
     "metadata": {},
     "output_type": "execute_result"
    }
   ],
   "source": [
    "import pandas as pd\n",
    "# Add the csv to convert to correct format\n",
    "#d = pd.read_csv(\"scb-mt-en-th-2020/wikipedia.csv\")\n",
    "#d1 = pd.read_csv(\"scb-mt-en-th-2020/assorted_government.csv\")\n",
    "#d2=pd.read_csv(\"scb-mt-en-th-2020/paracrawl.csv\")\n",
    "#d3=pd.read_csv(\"scb-mt-en-th-2020/thai_websites.csv\")\n",
    "#d4=pd.read_csv(\"scb-mt-en-th-2020/apdf.csv\")\n",
    "d5=pd.read_csv(\"scb-mt-en-th-2020/generated_reviews_translator.csv\")\n",
    "d5"
   ]
  },
  {
   "cell_type": "code",
   "execution_count": 2,
   "metadata": {},
   "outputs": [],
   "source": [
    "dtest = d5"
   ]
  },
  {
   "cell_type": "code",
   "execution_count": 3,
   "metadata": {},
   "outputs": [],
   "source": [
    "dtest = dtest.sample(100, random_state = 16)"
   ]
  },
  {
   "cell_type": "code",
   "execution_count": 4,
   "metadata": {},
   "outputs": [
    {
     "data": {
      "text/html": [
       "<div>\n",
       "<style scoped>\n",
       "    .dataframe tbody tr th:only-of-type {\n",
       "        vertical-align: middle;\n",
       "    }\n",
       "\n",
       "    .dataframe tbody tr th {\n",
       "        vertical-align: top;\n",
       "    }\n",
       "\n",
       "    .dataframe thead th {\n",
       "        text-align: right;\n",
       "    }\n",
       "</style>\n",
       "<table border=\"1\" class=\"dataframe\">\n",
       "  <thead>\n",
       "    <tr style=\"text-align: right;\">\n",
       "      <th></th>\n",
       "      <th>en_text</th>\n",
       "      <th>th_text</th>\n",
       "    </tr>\n",
       "  </thead>\n",
       "  <tbody>\n",
       "    <tr>\n",
       "      <th>111739</th>\n",
       "      <td>Otherwise I'm completely satisfied considering...</td>\n",
       "      <td>ไม่งั้นฉันจะพึงพอใจมากเลยกับราคานี้</td>\n",
       "    </tr>\n",
       "    <tr>\n",
       "      <th>65168</th>\n",
       "      <td>For many years, I've been looking for a truly ...</td>\n",
       "      <td>เป็นเวลาหลายปีที่ฉันมองหาการออกแบบระดับมืออาชี...</td>\n",
       "    </tr>\n",
       "    <tr>\n",
       "      <th>58105</th>\n",
       "      <td>I really love the look of this case.</td>\n",
       "      <td>ชอบหน้าตาของเคสนี้มากค่ะ</td>\n",
       "    </tr>\n",
       "    <tr>\n",
       "      <th>68053</th>\n",
       "      <td>The package makes it easy to store when not ne...</td>\n",
       "      <td>แพ็คเกจทำให้มันเก็บง่ายเมื่อไม่จำเป็น/ใช้</td>\n",
       "    </tr>\n",
       "    <tr>\n",
       "      <th>78674</th>\n",
       "      <td>Thanks!:)</td>\n",
       "      <td>ขอบคุณนะคะ! :)</td>\n",
       "    </tr>\n",
       "    <tr>\n",
       "      <th>...</th>\n",
       "      <td>...</td>\n",
       "      <td>...</td>\n",
       "    </tr>\n",
       "    <tr>\n",
       "      <th>66912</th>\n",
       "      <td>Has a nice light touch of sweetness.</td>\n",
       "      <td>มีหวานนิดๆ กำลังดี</td>\n",
       "    </tr>\n",
       "    <tr>\n",
       "      <th>122878</th>\n",
       "      <td>If I would have wanted a book on how to get ri...</td>\n",
       "      <td>ถ้าฉันต้องการหนังสือเกี่ยวกับวิธีกำจัดหมัด ก็เ...</td>\n",
       "    </tr>\n",
       "    <tr>\n",
       "      <th>11868</th>\n",
       "      <td>I bought another one a few months ago that wor...</td>\n",
       "      <td>ซื้อมาอีกสายเมื่อไม่กี่เดือนที่ผ่านมาแล้วและใช...</td>\n",
       "    </tr>\n",
       "    <tr>\n",
       "      <th>57108</th>\n",
       "      <td>Update - 7/8/2013 After using this several tim...</td>\n",
       "      <td>อัพเดทวันที่ 7/8/2013 หลังใช้มาหลายครั้ง ก็สัง...</td>\n",
       "    </tr>\n",
       "    <tr>\n",
       "      <th>114737</th>\n",
       "      <td>But maybe Amazon should consider including thi...</td>\n",
       "      <td>แต่บางทีอเมซอนควรพิจารณาส่วนนี้รวมกับการซื้อด้วย</td>\n",
       "    </tr>\n",
       "  </tbody>\n",
       "</table>\n",
       "<p>100 rows × 2 columns</p>\n",
       "</div>"
      ],
      "text/plain": [
       "                                                  en_text  \\\n",
       "111739  Otherwise I'm completely satisfied considering...   \n",
       "65168   For many years, I've been looking for a truly ...   \n",
       "58105                I really love the look of this case.   \n",
       "68053   The package makes it easy to store when not ne...   \n",
       "78674                                           Thanks!:)   \n",
       "...                                                   ...   \n",
       "66912                Has a nice light touch of sweetness.   \n",
       "122878  If I would have wanted a book on how to get ri...   \n",
       "11868   I bought another one a few months ago that wor...   \n",
       "57108   Update - 7/8/2013 After using this several tim...   \n",
       "114737  But maybe Amazon should consider including thi...   \n",
       "\n",
       "                                                  th_text  \n",
       "111739                ไม่งั้นฉันจะพึงพอใจมากเลยกับราคานี้  \n",
       "65168   เป็นเวลาหลายปีที่ฉันมองหาการออกแบบระดับมืออาชี...  \n",
       "58105                            ชอบหน้าตาของเคสนี้มากค่ะ  \n",
       "68053           แพ็คเกจทำให้มันเก็บง่ายเมื่อไม่จำเป็น/ใช้  \n",
       "78674                                      ขอบคุณนะคะ! :)  \n",
       "...                                                   ...  \n",
       "66912                                  มีหวานนิดๆ กำลังดี  \n",
       "122878  ถ้าฉันต้องการหนังสือเกี่ยวกับวิธีกำจัดหมัด ก็เ...  \n",
       "11868   ซื้อมาอีกสายเมื่อไม่กี่เดือนที่ผ่านมาแล้วและใช...  \n",
       "57108   อัพเดทวันที่ 7/8/2013 หลังใช้มาหลายครั้ง ก็สัง...  \n",
       "114737   แต่บางทีอเมซอนควรพิจารณาส่วนนี้รวมกับการซื้อด้วย  \n",
       "\n",
       "[100 rows x 2 columns]"
      ]
     },
     "execution_count": 4,
     "metadata": {},
     "output_type": "execute_result"
    }
   ],
   "source": [
    "dtest"
   ]
  },
  {
   "cell_type": "code",
   "execution_count": 5,
   "metadata": {},
   "outputs": [],
   "source": [
    "dtest[\"th_text\"] = dtest.th_text.apply(lambda x: {\"th\": x})"
   ]
  },
  {
   "cell_type": "code",
   "execution_count": 6,
   "metadata": {},
   "outputs": [],
   "source": [
    "dtest[\"en_text\"] = dtest.en_text.apply(lambda x: {\"en\": x})"
   ]
  },
  {
   "cell_type": "code",
   "execution_count": 7,
   "metadata": {},
   "outputs": [
    {
     "data": {
      "text/plain": [
       "{'en': \"Otherwise I'm completely satisfied considering this price.\"}"
      ]
     },
     "execution_count": 7,
     "metadata": {},
     "output_type": "execute_result"
    }
   ],
   "source": [
    "dtest[\"en_text\"].iloc[0]"
   ]
  },
  {
   "cell_type": "code",
   "execution_count": 8,
   "metadata": {},
   "outputs": [
    {
     "data": {
      "text/plain": [
       "{'en': \"Otherwise I'm completely satisfied considering this price.\"}"
      ]
     },
     "execution_count": 8,
     "metadata": {},
     "output_type": "execute_result"
    }
   ],
   "source": [
    "test2 = dtest[\"en_text\"].iloc[0]\n",
    "test2"
   ]
  },
  {
   "cell_type": "code",
   "execution_count": 9,
   "metadata": {},
   "outputs": [
    {
     "data": {
      "text/plain": [
       "{'en': \"Otherwise I'm completely satisfied considering this price.\",\n",
       " 'th': 'ไม่งั้นฉันจะพึงพอใจมากเลยกับราคานี้'}"
      ]
     },
     "execution_count": 9,
     "metadata": {},
     "output_type": "execute_result"
    }
   ],
   "source": [
    "test2.update(dtest[\"th_text\"].iloc[0])\n",
    "test2"
   ]
  },
  {
   "cell_type": "code",
   "execution_count": 10,
   "metadata": {},
   "outputs": [
    {
     "data": {
      "text/plain": [
       "{'en': \"For many years, I've been looking for a truly professional design that would not allow me to take too much time while using it.\"}"
      ]
     },
     "execution_count": 10,
     "metadata": {},
     "output_type": "execute_result"
    }
   ],
   "source": [
    "dtest[\"en_text\"].iloc[1]"
   ]
  },
  {
   "cell_type": "code",
   "execution_count": 11,
   "metadata": {},
   "outputs": [
    {
     "data": {
      "text/html": [
       "<div>\n",
       "<style scoped>\n",
       "    .dataframe tbody tr th:only-of-type {\n",
       "        vertical-align: middle;\n",
       "    }\n",
       "\n",
       "    .dataframe tbody tr th {\n",
       "        vertical-align: top;\n",
       "    }\n",
       "\n",
       "    .dataframe thead th {\n",
       "        text-align: right;\n",
       "    }\n",
       "</style>\n",
       "<table border=\"1\" class=\"dataframe\">\n",
       "  <thead>\n",
       "    <tr style=\"text-align: right;\">\n",
       "      <th></th>\n",
       "      <th>en_text</th>\n",
       "      <th>th_text</th>\n",
       "    </tr>\n",
       "  </thead>\n",
       "  <tbody>\n",
       "    <tr>\n",
       "      <th>111739</th>\n",
       "      <td>{'en': 'Otherwise I'm completely satisfied con...</td>\n",
       "      <td>{'th': 'ไม่งั้นฉันจะพึงพอใจมากเลยกับราคานี้'}</td>\n",
       "    </tr>\n",
       "    <tr>\n",
       "      <th>65168</th>\n",
       "      <td>{'en': 'For many years, I've been looking for ...</td>\n",
       "      <td>{'th': 'เป็นเวลาหลายปีที่ฉันมองหาการออกแบบระดั...</td>\n",
       "    </tr>\n",
       "    <tr>\n",
       "      <th>58105</th>\n",
       "      <td>{'en': 'I really love the look of this case.'}</td>\n",
       "      <td>{'th': 'ชอบหน้าตาของเคสนี้มากค่ะ'}</td>\n",
       "    </tr>\n",
       "    <tr>\n",
       "      <th>68053</th>\n",
       "      <td>{'en': 'The package makes it easy to store whe...</td>\n",
       "      <td>{'th': 'แพ็คเกจทำให้มันเก็บง่ายเมื่อไม่จำเป็น/...</td>\n",
       "    </tr>\n",
       "    <tr>\n",
       "      <th>78674</th>\n",
       "      <td>{'en': 'Thanks!:)'}</td>\n",
       "      <td>{'th': 'ขอบคุณนะคะ! :)'}</td>\n",
       "    </tr>\n",
       "    <tr>\n",
       "      <th>...</th>\n",
       "      <td>...</td>\n",
       "      <td>...</td>\n",
       "    </tr>\n",
       "    <tr>\n",
       "      <th>66912</th>\n",
       "      <td>{'en': 'Has a nice light touch of sweetness.'}</td>\n",
       "      <td>{'th': 'มีหวานนิดๆ กำลังดี'}</td>\n",
       "    </tr>\n",
       "    <tr>\n",
       "      <th>122878</th>\n",
       "      <td>{'en': 'If I would have wanted a book on how t...</td>\n",
       "      <td>{'th': 'ถ้าฉันต้องการหนังสือเกี่ยวกับวิธีกำจัด...</td>\n",
       "    </tr>\n",
       "    <tr>\n",
       "      <th>11868</th>\n",
       "      <td>{'en': 'I bought another one a few months ago ...</td>\n",
       "      <td>{'th': 'ซื้อมาอีกสายเมื่อไม่กี่เดือนที่ผ่านมาแ...</td>\n",
       "    </tr>\n",
       "    <tr>\n",
       "      <th>57108</th>\n",
       "      <td>{'en': 'Update - 7/8/2013 After using this sev...</td>\n",
       "      <td>{'th': 'อัพเดทวันที่ 7/8/2013 หลังใช้มาหลายครั...</td>\n",
       "    </tr>\n",
       "    <tr>\n",
       "      <th>114737</th>\n",
       "      <td>{'en': 'But maybe Amazon should consider inclu...</td>\n",
       "      <td>{'th': 'แต่บางทีอเมซอนควรพิจารณาส่วนนี้รวมกับก...</td>\n",
       "    </tr>\n",
       "  </tbody>\n",
       "</table>\n",
       "<p>100 rows × 2 columns</p>\n",
       "</div>"
      ],
      "text/plain": [
       "                                                  en_text  \\\n",
       "111739  {'en': 'Otherwise I'm completely satisfied con...   \n",
       "65168   {'en': 'For many years, I've been looking for ...   \n",
       "58105      {'en': 'I really love the look of this case.'}   \n",
       "68053   {'en': 'The package makes it easy to store whe...   \n",
       "78674                                 {'en': 'Thanks!:)'}   \n",
       "...                                                   ...   \n",
       "66912      {'en': 'Has a nice light touch of sweetness.'}   \n",
       "122878  {'en': 'If I would have wanted a book on how t...   \n",
       "11868   {'en': 'I bought another one a few months ago ...   \n",
       "57108   {'en': 'Update - 7/8/2013 After using this sev...   \n",
       "114737  {'en': 'But maybe Amazon should consider inclu...   \n",
       "\n",
       "                                                  th_text  \n",
       "111739      {'th': 'ไม่งั้นฉันจะพึงพอใจมากเลยกับราคานี้'}  \n",
       "65168   {'th': 'เป็นเวลาหลายปีที่ฉันมองหาการออกแบบระดั...  \n",
       "58105                  {'th': 'ชอบหน้าตาของเคสนี้มากค่ะ'}  \n",
       "68053   {'th': 'แพ็คเกจทำให้มันเก็บง่ายเมื่อไม่จำเป็น/...  \n",
       "78674                            {'th': 'ขอบคุณนะคะ! :)'}  \n",
       "...                                                   ...  \n",
       "66912                        {'th': 'มีหวานนิดๆ กำลังดี'}  \n",
       "122878  {'th': 'ถ้าฉันต้องการหนังสือเกี่ยวกับวิธีกำจัด...  \n",
       "11868   {'th': 'ซื้อมาอีกสายเมื่อไม่กี่เดือนที่ผ่านมาแ...  \n",
       "57108   {'th': 'อัพเดทวันที่ 7/8/2013 หลังใช้มาหลายครั...  \n",
       "114737  {'th': 'แต่บางทีอเมซอนควรพิจารณาส่วนนี้รวมกับก...  \n",
       "\n",
       "[100 rows x 2 columns]"
      ]
     },
     "execution_count": 11,
     "metadata": {},
     "output_type": "execute_result"
    }
   ],
   "source": [
    "dtest"
   ]
  },
  {
   "cell_type": "code",
   "execution_count": 12,
   "metadata": {},
   "outputs": [],
   "source": [
    "for i in range(len(dtest[\"en_text\"])):\n",
    "    dtest[\"en_text\"].iloc[i].update(dtest[\"th_text\"].iloc[i])"
   ]
  },
  {
   "cell_type": "code",
   "execution_count": 13,
   "metadata": {},
   "outputs": [
    {
     "data": {
      "text/html": [
       "<div>\n",
       "<style scoped>\n",
       "    .dataframe tbody tr th:only-of-type {\n",
       "        vertical-align: middle;\n",
       "    }\n",
       "\n",
       "    .dataframe tbody tr th {\n",
       "        vertical-align: top;\n",
       "    }\n",
       "\n",
       "    .dataframe thead th {\n",
       "        text-align: right;\n",
       "    }\n",
       "</style>\n",
       "<table border=\"1\" class=\"dataframe\">\n",
       "  <thead>\n",
       "    <tr style=\"text-align: right;\">\n",
       "      <th></th>\n",
       "      <th>translation</th>\n",
       "      <th>th_text</th>\n",
       "    </tr>\n",
       "  </thead>\n",
       "  <tbody>\n",
       "    <tr>\n",
       "      <th>111739</th>\n",
       "      <td>{'en': 'Otherwise I'm completely satisfied con...</td>\n",
       "      <td>{'th': 'ไม่งั้นฉันจะพึงพอใจมากเลยกับราคานี้'}</td>\n",
       "    </tr>\n",
       "    <tr>\n",
       "      <th>65168</th>\n",
       "      <td>{'en': 'For many years, I've been looking for ...</td>\n",
       "      <td>{'th': 'เป็นเวลาหลายปีที่ฉันมองหาการออกแบบระดั...</td>\n",
       "    </tr>\n",
       "    <tr>\n",
       "      <th>58105</th>\n",
       "      <td>{'en': 'I really love the look of this case.',...</td>\n",
       "      <td>{'th': 'ชอบหน้าตาของเคสนี้มากค่ะ'}</td>\n",
       "    </tr>\n",
       "    <tr>\n",
       "      <th>68053</th>\n",
       "      <td>{'en': 'The package makes it easy to store whe...</td>\n",
       "      <td>{'th': 'แพ็คเกจทำให้มันเก็บง่ายเมื่อไม่จำเป็น/...</td>\n",
       "    </tr>\n",
       "    <tr>\n",
       "      <th>78674</th>\n",
       "      <td>{'en': 'Thanks!:)', 'th': 'ขอบคุณนะคะ! :)'}</td>\n",
       "      <td>{'th': 'ขอบคุณนะคะ! :)'}</td>\n",
       "    </tr>\n",
       "    <tr>\n",
       "      <th>...</th>\n",
       "      <td>...</td>\n",
       "      <td>...</td>\n",
       "    </tr>\n",
       "    <tr>\n",
       "      <th>66912</th>\n",
       "      <td>{'en': 'Has a nice light touch of sweetness.',...</td>\n",
       "      <td>{'th': 'มีหวานนิดๆ กำลังดี'}</td>\n",
       "    </tr>\n",
       "    <tr>\n",
       "      <th>122878</th>\n",
       "      <td>{'en': 'If I would have wanted a book on how t...</td>\n",
       "      <td>{'th': 'ถ้าฉันต้องการหนังสือเกี่ยวกับวิธีกำจัด...</td>\n",
       "    </tr>\n",
       "    <tr>\n",
       "      <th>11868</th>\n",
       "      <td>{'en': 'I bought another one a few months ago ...</td>\n",
       "      <td>{'th': 'ซื้อมาอีกสายเมื่อไม่กี่เดือนที่ผ่านมาแ...</td>\n",
       "    </tr>\n",
       "    <tr>\n",
       "      <th>57108</th>\n",
       "      <td>{'en': 'Update - 7/8/2013 After using this sev...</td>\n",
       "      <td>{'th': 'อัพเดทวันที่ 7/8/2013 หลังใช้มาหลายครั...</td>\n",
       "    </tr>\n",
       "    <tr>\n",
       "      <th>114737</th>\n",
       "      <td>{'en': 'But maybe Amazon should consider inclu...</td>\n",
       "      <td>{'th': 'แต่บางทีอเมซอนควรพิจารณาส่วนนี้รวมกับก...</td>\n",
       "    </tr>\n",
       "  </tbody>\n",
       "</table>\n",
       "<p>100 rows × 2 columns</p>\n",
       "</div>"
      ],
      "text/plain": [
       "                                              translation  \\\n",
       "111739  {'en': 'Otherwise I'm completely satisfied con...   \n",
       "65168   {'en': 'For many years, I've been looking for ...   \n",
       "58105   {'en': 'I really love the look of this case.',...   \n",
       "68053   {'en': 'The package makes it easy to store whe...   \n",
       "78674         {'en': 'Thanks!:)', 'th': 'ขอบคุณนะคะ! :)'}   \n",
       "...                                                   ...   \n",
       "66912   {'en': 'Has a nice light touch of sweetness.',...   \n",
       "122878  {'en': 'If I would have wanted a book on how t...   \n",
       "11868   {'en': 'I bought another one a few months ago ...   \n",
       "57108   {'en': 'Update - 7/8/2013 After using this sev...   \n",
       "114737  {'en': 'But maybe Amazon should consider inclu...   \n",
       "\n",
       "                                                  th_text  \n",
       "111739      {'th': 'ไม่งั้นฉันจะพึงพอใจมากเลยกับราคานี้'}  \n",
       "65168   {'th': 'เป็นเวลาหลายปีที่ฉันมองหาการออกแบบระดั...  \n",
       "58105                  {'th': 'ชอบหน้าตาของเคสนี้มากค่ะ'}  \n",
       "68053   {'th': 'แพ็คเกจทำให้มันเก็บง่ายเมื่อไม่จำเป็น/...  \n",
       "78674                            {'th': 'ขอบคุณนะคะ! :)'}  \n",
       "...                                                   ...  \n",
       "66912                        {'th': 'มีหวานนิดๆ กำลังดี'}  \n",
       "122878  {'th': 'ถ้าฉันต้องการหนังสือเกี่ยวกับวิธีกำจัด...  \n",
       "11868   {'th': 'ซื้อมาอีกสายเมื่อไม่กี่เดือนที่ผ่านมาแ...  \n",
       "57108   {'th': 'อัพเดทวันที่ 7/8/2013 หลังใช้มาหลายครั...  \n",
       "114737  {'th': 'แต่บางทีอเมซอนควรพิจารณาส่วนนี้รวมกับก...  \n",
       "\n",
       "[100 rows x 2 columns]"
      ]
     },
     "execution_count": 13,
     "metadata": {},
     "output_type": "execute_result"
    }
   ],
   "source": [
    "dtest = dtest.rename(columns={\"en_text\": \"translation\"})\n",
    "dtest"
   ]
  },
  {
   "cell_type": "code",
   "execution_count": 14,
   "metadata": {},
   "outputs": [
    {
     "data": {
      "text/plain": [
       "{'en': 'But this works perfectly for my application.',\n",
       " 'th': 'แต่นี่ก็ใช้ดีไม่มีที่ติค่ะกับการใช้งานของฉัน'}"
      ]
     },
     "execution_count": 14,
     "metadata": {},
     "output_type": "execute_result"
    }
   ],
   "source": [
    "dtest[\"translation\"].iloc[10]"
   ]
  },
  {
   "cell_type": "code",
   "execution_count": 15,
   "metadata": {},
   "outputs": [],
   "source": [
    "dtest = dtest.drop(columns=['th_text'])"
   ]
  },
  {
   "cell_type": "code",
   "execution_count": 16,
   "metadata": {},
   "outputs": [],
   "source": [
    "dtest.to_json('prod_rand_test.json', orient='records', lines=True, force_ascii=False)"
   ]
  },
  {
   "cell_type": "code",
   "execution_count": null,
   "metadata": {},
   "outputs": [],
   "source": []
  }
 ],
 "metadata": {
  "kernelspec": {
   "display_name": "Python 3",
   "language": "python",
   "name": "python3"
  },
  "language_info": {
   "codemirror_mode": {
    "name": "ipython",
    "version": 3
   },
   "file_extension": ".py",
   "mimetype": "text/x-python",
   "name": "python",
   "nbconvert_exporter": "python",
   "pygments_lexer": "ipython3",
   "version": "3.8.3"
  }
 },
 "nbformat": 4,
 "nbformat_minor": 4
}
